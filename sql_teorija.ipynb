{
 "cells": [
  {
   "metadata": {},
   "cell_type": "markdown",
   "source": "### 1. Osnovne komande",
   "id": "dcc385e8ac6b0061"
  },
  {
   "metadata": {},
   "cell_type": "markdown",
   "source": [
    "- **Sta je sql?**   \n",
    "   SQL (Structured Query Language) je standardni jezik za upravljanje i manipulaciju relacijskim bazama podataka.      \n",
    "- **Koje su osnovne SQL komande (SELECT, INSERT, UPDATE, DELETE)?**   \n",
    "    -> **SELECT**: Koristi se za preuzimanje podataka iz baze podataka.  \n",
    "    -> **INSERT**: Koristi se za umetanje novih redova u tabelu.  \n",
    "    -> **UPDATE**: Koristi se za ažuriranje postojećih podataka u tabeli.  \n",
    "    -> **DELETE**: Koristi se za brisanje podataka iz tabele.  \n",
    "- **Kako se koristi SELECT za izdvajanje podataka iz tabele?**  \n",
    "  `SELECT * FROM tabela;`  preuzima sve kolone iz tabele.  \n",
    "  `SELECT kolona1, kolona2 FROM tabela;`  preuzima određene kolone iz tabele.\n",
    "    "
   ],
   "id": "60e32cf21e85fb04"
  },
  {
   "metadata": {},
   "cell_type": "markdown",
   "source": "### 2. Uslovi i filtriranje",
   "id": "a27ead73654585b0"
  },
  {
   "metadata": {},
   "cell_type": "markdown",
   "source": [
    "- **Kako se koristi WHERE klauzula?**  \n",
    "  `SELECT * FROM tabela WHERE uslov;`  filtrira redove koji ispunjavaju zadati uslov.\n",
    "- **Šta su LIKE, IN, BETWEEN operatori i kako se koriste?**  \n",
    "  -> **LIKE**: Koristi se za traženje uzorka u stringovima. `SELECT * FROM tabela WHERE kolona LIKE 'abc%';`  \n",
    "  -> **IN**: Koristi se za proveru da li je vrednost u skupu vrednosti. `SELECT * FROM tabela WHERE kolona IN (vrednost1, vrednost2);`  \n",
    "  -> **BETWEEN**: Koristi se za traženje vrednosti u određenom opsegu. `SELECT * FROM tabela WHERE kolona BETWEEN vrednost1 AND vrednost2;`"
   ],
   "id": "3f65ba0e88520bcc"
  },
  {
   "metadata": {},
   "cell_type": "markdown",
   "source": "### 3. Sortiranje i grupisanje",
   "id": "434c7980c82e1838"
  },
  {
   "metadata": {},
   "cell_type": "markdown",
   "source": [
    "- **Kako se koristi ORDER BY?**  \n",
    "  `SELECT * FROM tabela ORDER BY kolona ASC;` sortira redove uzlazno.\n",
    "  `SELECT * FROM tabela ORDER BY kolona DESC;` sortira redove silazno.\n",
    "- **Kako se koristi GROUP BY?**  \n",
    "  `SELECT kolona, COUNT(*) FROM tabela GROUP BY kolona;` grupiše redove po koloni i vraća agregatne vrednosti.\n",
    "- **Razlika između WHERE i HAVING?**  \n",
    "  -> **WHERE** se koristi za filtriranje redova pre grupisanja.  \n",
    "  -> **HAVING** se koristi za filtriranje grupa nakon grupisanja."
   ],
   "id": "6201e884ca088592"
  },
  {
   "metadata": {},
   "cell_type": "markdown",
   "source": "### 4. Join operacije",
   "id": "936daeaccdfb087"
  },
  {
   "metadata": {},
   "cell_type": "markdown",
   "source": [
    "- **Šta su JOIN operacije?**  \n",
    "  **JOIN** operacije se koriste za kombinovanje redova iz dve ili više tabela na osnovu povezanih kolona.\n",
    "- **Razlika između INNER JOIN, LEFT JOIN, RIGHT JOIN i FULL JOIN?**  \n",
    "  -> **INNER JOIN**: Vraća samo redove koji imaju odgovarajuće vrednosti u obe tabele.  \n",
    "  -> **LEFT JOIN**: Vraća sve redove iz leve tabele i odgovarajuće redove iz desne tabele.  \n",
    "  -> **RIGHT JOIN**: Vraća sve redove iz desne tabele i odgovarajuće redove iz leve tabele.  \n",
    "  -> **FULL JOIN**: Vraća sve redove kada postoji podudaranje u bilo kojoj od tabela.\n",
    "- **Primeri upita sa različitim JOIN-ovima:**  \n",
    "  `SELECT * FROM tabela1 INNER JOIN tabela2 ON tabela1.kolona = tabela2.kolona;`  \n",
    "  `SELECT * FROM tabela1 LEFT JOIN tabela2 ON tabela1.kolona = tabela2.kolona;`\n",
    "  "
   ],
   "id": "4d5604c8db1911cf"
  },
  {
   "metadata": {},
   "cell_type": "markdown",
   "source": "### 5. Agregatne funkcije",
   "id": "90b16996de1c0f11"
  },
  {
   "metadata": {},
   "cell_type": "markdown",
   "source": [
    "- **Kako se koriste funkcije kao što su COUNT, SUM, AVG, MAX, MIN?**  \n",
    "  `SELECT COUNT(*) FROM tabela;`  \n",
    "  `SELECT SUM(kolona) FROM tabela;`  \n",
    "  `SELECT AVG(kolona) FROM tabela;`  \n",
    "  `SELECT MAX(kolona) FROM tabela;`  \n",
    "  `SELECT MIN(kolona) FROM tabela;`\n",
    "- **Primeri korišćenja agregatnih funkcija u kombinaciji sa GROUP BY:**  \n",
    "  `SELECT kolona, COUNT(*) FROM tabela GROUP BY kolona;`  \n",
    "  `SELECT kolona, SUM(kolona2) FROM tabela GROUP BY kolona;`\n",
    "  \n",
    "  "
   ],
   "id": "ab5e3fdd9120814b"
  },
  {
   "metadata": {},
   "cell_type": "markdown",
   "source": "### 6. Podupiti (Subqueries)",
   "id": "939d79309702b3ee"
  },
  {
   "metadata": {},
   "cell_type": "markdown",
   "source": [
    "- **Šta su podupiti i kako se koriste?**  \n",
    "  Podupiti su upiti unutar drugih upita. Koriste se za vraćanje podataka koji će se koristiti u glavnom upitu.  \n",
    "  `SELECT * FROM tabela WHERE kolona IN (SELECT kolona FROM tabela2 WHERE uslov);`\n",
    "- **Razlika između korelisanih i nekorelisanih podupita?**  \n",
    "  - Nekorelisani podupiti: Ne zavise od spoljnog upita. `SELECT * FROM tabela WHERE kolona = (SELECT MAX(kolona2) FROM tabela2);`  \n",
    "  - Korelisanih podupiti: Zavise od vrednosti iz spoljnog upita. `SELECT * FROM tabela t1 WHERE EXISTS (SELECT 1 FROM tabela2 t2 WHERE t2.kolona = t1.kolona);`  \n",
    "- **Primeri jednostavnih i kompleksnih podupita:**   \n",
    "  - Jednostavan: `SELECT * FROM tabela WHERE kolona = (SELECT MAX(kolona2) FROM tabela2);`  \n",
    "  - Kompleksan: `SELECT * FROM tabela WHERE kolona IN (SELECT kolona FROM tabela2 WHERE uslov AND kolona2 = (SELECT MAX(kolona3) FROM tabela3 WHERE uslov2));`"
   ],
   "id": "62c86e6e939358d1"
  },
  {
   "metadata": {},
   "cell_type": "markdown",
   "source": "### 7. Rad sa datumima i vremenom",
   "id": "e6568f6bfd9964d0"
  },
  {
   "metadata": {},
   "cell_type": "markdown",
   "source": [
    "- **Kako se rukuje datumima i vremenom u SQL-u?**  \n",
    "   Korišćenjem datuma i vremenskih funkcija kao što su **DATEADD**, **DATEDIFF**, **GETDATE**.  \n",
    "   `SELECT GETDATE();` vraća trenutni datum i vreme.  \n",
    "   `SELECT DATEADD(day, 7, GETDATE());` dodaje 7 dana trenutnom datumu.  \n",
    "   `SELECT DATEDIFF(day, '2024-01-01', GETDATE());` vraća razliku u danima između dva datuma.\n"
   ],
   "id": "d26b5c758bbcc07e"
  },
  {
   "metadata": {},
   "cell_type": "markdown",
   "source": "### 8. Indeksi",
   "id": "dd4b19b70dfa79e6"
  },
  {
   "metadata": {},
   "cell_type": "markdown",
   "source": [
    "- **Šta su indeksi i čemu služe?**  \n",
    "  Indeksi su strukture podataka koje poboljšavaju brzinu pretraživanja podataka u tabeli.\n",
    "- **Razlika između klasterskih i neklasterskih indeksa?**  \n",
    "  - Klasterski indeks: Redosled redova u tabeli je fizički uređen prema indeksu.\n",
    "  - Neklasterski indeks: Sadrži pokazivače na fizičke redove u tabeli.  \n",
    "- **Kako indeksi utiču na performanse upita?**  \n",
    "  Indeksi mogu značajno ubrzati upite za pretraživanje i filtriranje, ali mogu usporiti upite za umetanje i ažuriranje zbog dodatnog održavanja indeksa."
   ],
   "id": "b7730557170518fe"
  },
  {
   "metadata": {},
   "cell_type": "markdown",
   "source": "### 9. Transakcije",
   "id": "d3e7f20457527e92"
  },
  {
   "metadata": {},
   "cell_type": "markdown",
   "source": [
    "- **Šta su transakcije u SQL-u?**  \n",
    "  Transakcije su skup SQL operacija koje se izvršavaju kao jedna celina.\n",
    "- **Šta znače ACID svojstva?**  \n",
    "  ***Atomicity***: Sve operacije u transakciji se izvršavaju ili nijedna.  \n",
    "  ***Consistency***: Transakcija dovodi bazu podataka iz jednog konzistentnog stanja u drugo.  \n",
    "  ***Isolation***: Izolacija transakcija obezbeđuje da međusobno ne utiču jedna na drugu.  \n",
    "  ***Durability***: Nakon potvrde transakcije, promene su trajne.\n",
    "- **Kako se koriste komande COMMIT i ROLLBACK?**  \n",
    "  `COMMIT;` potvrđuje sve promene napravljene u transakciji.  \n",
    "  `ROLLBACK;` poništava sve promene napravljene u transakciji."
   ],
   "id": "d89473a8c0674f35"
  },
  {
   "metadata": {},
   "cell_type": "markdown",
   "source": "### 10. Normalizacija i denormalizacija",
   "id": "e49675ec732b6591"
  },
  {
   "metadata": {},
   "cell_type": "markdown",
   "source": [
    "- **Šta je normalizacija i koji su njeni nivoi (normalne forme)?**  \n",
    "  Normalizacija je proces organizovanja podataka kako bi se smanjila redundancija i poboljšala integritet podataka.  \n",
    "  **1NF** (Prva normalna forma): Eliminacija duplikata kolona.  \n",
    "  **2NF** (Druga normalna forma): Eliminacija parcijalne zavisnosti.  \n",
    "  **3NF** (Treća normalna forma): Eliminacija tranzitivne zavisnosti.  \n",
    "- **Prednosti i mane denormalizacije?**  \n",
    "  - Prednosti: Poboljšane performanse upita.\n",
    "  - Mane: Veća redundancija podataka i složenost održavanja."
   ],
   "id": "a6a2e6505393efb4"
  },
  {
   "metadata": {},
   "cell_type": "markdown",
   "source": "### 11. Upravljanje korisnicima i privilegijama\n",
   "id": "46185d5f57a68ca4"
  },
  {
   "metadata": {},
   "cell_type": "markdown",
   "source": [
    "- **Kako se kreiraju korisnici i dodeljuju privilegije?**  \n",
    "  `CREATE USER korisnik IDENTIFIED BY 'lozinka';` kreira novog korisnika.  \n",
    "  `GRANT privilegija TO korisnik;` dodeljuje određene privilegije korisniku.  \n",
    "  Primer: `GRANT SELECT, INSERT ON baza.* TO 'korisnik';` dodeljuje privilegije SELECT i INSERT na sve tabele u bazi podataka za određenog korisnika.\n",
    "- **Razlika između GRANT i REVOKE komandi?**  \n",
    "  -> **GRANT**: Dodeljuje privilegije korisnicima ili grupama korisnika.  \n",
    "  -> **REVOKE**: Oduzima prethodno dodeljene privilegije od korisnika ili grupa korisnika.  \n",
    "  Primer: `REVOKE SELECT ON baza.tabela FROM 'korisnik';`"
   ],
   "id": "b3b9fbacc6f0a344"
  },
  {
   "metadata": {},
   "cell_type": "markdown",
   "source": "### 12. Performanse i optimizacja",
   "id": "b8089835668f9929"
  },
  {
   "metadata": {},
   "cell_type": "markdown",
   "source": [
    "- **Kako analizirati i optimizovati SQL upite?**  \n",
    "  Korišćenjem alata i komandi kao što su **EXPLAIN**, **ANALYZE** i **QUERY PLAN**.  \n",
    "  Primer: `EXPLAIN SELECT * FROM tabela WHERE kolona = 'vrednost';` pokazuje plan izvršavanja upita.\n",
    "- **Korišćenje alata za analizu performansi (npr. EXPLAIN plan)?**  \n",
    "  -> **EXPLAIN** daje uvid u način na koji baza podataka planira da izvrši upit, uključujući korišćenje indeksa, redosled tabela i procenjeni trošak izvršavanja.  \n",
    "  -> **ANALYZE** može se koristiti za prikupljanje statističkih podataka o tabelama i indeksima, što pomaže optimizatoru upita da napravi bolji plan izvršavanja."
   ],
   "id": "26e0650928fa57e"
  },
  {
   "metadata": {},
   "cell_type": "markdown",
   "source": "### 13. Stored Procedures i Triggers",
   "id": "ace148de1f360d8f"
  },
  {
   "metadata": {},
   "cell_type": "markdown",
   "source": [
    "- **Šta su stored procedures i kako se kreiraju?**  \n",
    "  Stored procedures su unapred definisani skupovi SQL komandi koji se čuvaju u bazi podataka i mogu se izvršavati kada su potrebni.  \n",
    "  Primer:  \n",
    "  ```CREATE PROCEDURE procedura()```  \n",
    "  ```BEGIN```    \n",
    "  ```      SELECT * FROM tabela;```     \n",
    "  ```END;```\n",
    "- **Šta su trigeri i kada se koriste?**  \n",
    "  Trigeri su automatski pokretane procedure koje se izvršavaju kao odgovor na određene događaje u tabeli (npr. INSERT, UPDATE, DELETE).  \n",
    "  Primer:  \n",
    "  `CREATE TRIGGER triger_naziv`  \n",
    "  `BEFORE INSERT ON tabela`  \n",
    "  `FOR EACH ROW`  \n",
    "  `BEGIN`  \n",
    "    `SET NEW.kolona = NOW();`  \n",
    "  `END;`\n",
    "- **Primeri kreiranja i korišćenja stored procedures i trigera**  \n",
    "  - Stored procedure za umetanje podataka:  \n",
    "     `CREATE PROCEDURE umetni_podatke (IN p_kolona1 INT, IN p_kolona2 VARCHAR(255))`  \n",
    "     `BEGIN`    \n",
    "    `INSERT INTO tabela (kolona1, kolona2) VALUES (p_kolona1, p_kolona2);`    \n",
    "    `END;`\n",
    "  - Triger koji postavlja trenutni datum na kolonu pri umetnju:  \n",
    "     `CREATE TRIGGER set_date_before_insert`  \n",
    "     `BEFORE INSERT ON tabela`  \n",
    "     `FOR EACH ROW`  \n",
    "     `BEGIN`  \n",
    "     `SET NEW.datum = NOW();`  \n",
    "     `END;`\n",
    "\n",
    "\n",
    "\n"
   ],
   "id": "8e9d30641c55e18f"
  },
  {
   "metadata": {},
   "cell_type": "code",
   "outputs": [],
   "execution_count": null,
   "source": "",
   "id": "7c46ee8edaa86f15"
  }
 ],
 "metadata": {
  "kernelspec": {
   "display_name": "Python 3",
   "language": "python",
   "name": "python3"
  },
  "language_info": {
   "codemirror_mode": {
    "name": "ipython",
    "version": 2
   },
   "file_extension": ".py",
   "mimetype": "text/x-python",
   "name": "python",
   "nbconvert_exporter": "python",
   "pygments_lexer": "ipython2",
   "version": "2.7.6"
  }
 },
 "nbformat": 4,
 "nbformat_minor": 5
}
